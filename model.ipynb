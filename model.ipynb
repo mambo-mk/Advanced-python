{
 "cells": [
  {
   "cell_type": "code",
   "execution_count": 1,
   "id": "9b57458a",
   "metadata": {},
   "outputs": [],
   "source": [
    "import pandas as pd\n",
    "import numpy as np"
   ]
  },
  {
   "cell_type": "code",
   "execution_count": 4,
   "id": "95fb75d7",
   "metadata": {},
   "outputs": [
    {
     "name": "stdout",
     "output_type": "stream",
     "text": [
      "my number is 1000\n",
      "my number is 800\n",
      "my number is 600\n",
      "my number is 400\n",
      "my number is 200\n"
     ]
    }
   ],
   "source": [
    "n = 1000\n",
    "while n >1:\n",
    "    print(f\"my number is {n}\")\n",
    "    n= n-200"
   ]
  },
  {
   "cell_type": "code",
   "execution_count": 5,
   "id": "46a0cd90",
   "metadata": {},
   "outputs": [],
   "source": [
    "def factor(age):\n",
    "    if age <19:\n",
    "        return \"0-18\"\n",
    "    elif age <30:\n",
    "        return \"19-29\"\n",
    "    else:\n",
    "        return \"30+\""
   ]
  },
  {
   "cell_type": "code",
   "execution_count": 6,
   "id": "6b0539f2",
   "metadata": {},
   "outputs": [
    {
     "data": {
      "text/plain": [
       "'30+'"
      ]
     },
     "execution_count": 6,
     "metadata": {},
     "output_type": "execute_result"
    }
   ],
   "source": [
    "factor(34)"
   ]
  },
  {
   "cell_type": "code",
   "execution_count": 8,
   "id": "71bc60bb",
   "metadata": {},
   "outputs": [
    {
     "data": {
      "text/plain": [
       "['19-29', '30+', '30+', '19-29', '30+', '30+', '30+']"
      ]
     },
     "execution_count": 8,
     "metadata": {},
     "output_type": "execute_result"
    }
   ],
   "source": [
    "# MAp apply\n",
    "ages = [23,90,87,23,42,43,56]\n",
    "list(map(factor,ages))"
   ]
  },
  {
   "cell_type": "code",
   "execution_count": null,
   "id": "a2c4d690",
   "metadata": {},
   "outputs": [],
   "source": [
    "# Update the data from internet \n",
    "# visualize/ sumarize\n",
    "# predict Average price crude from Price per Barell|Exrates"
   ]
  }
 ],
 "metadata": {
  "kernelspec": {
   "display_name": "Python 3 (ipykernel)",
   "language": "python",
   "name": "python3"
  },
  "language_info": {
   "codemirror_mode": {
    "name": "ipython",
    "version": 3
   },
   "file_extension": ".py",
   "mimetype": "text/x-python",
   "name": "python",
   "nbconvert_exporter": "python",
   "pygments_lexer": "ipython3",
   "version": "3.10.4"
  }
 },
 "nbformat": 4,
 "nbformat_minor": 5
}
